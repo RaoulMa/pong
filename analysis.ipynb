{
 "cells": [
  {
   "cell_type": "code",
   "execution_count": 2,
   "metadata": {},
   "outputs": [
    {
     "name": "stdout",
     "output_type": "stream",
     "text": [
      "tf version 1.13.1\n",
      "Is GPU available False\n"
     ]
    }
   ],
   "source": [
    "# GPU availability\n",
    "import tensorflow as tf\n",
    "print('tf version {}'.format(tf.__version__))\n",
    "print('Is GPU available {}'.format(tf.test.is_gpu_available()))\n",
    "device_name = tf.test.gpu_device_name()\n",
    "if device_name == '/device:GPU:0':\n",
    "    print('Found GPU at: {}'.format(device_name))"
   ]
  },
  {
   "cell_type": "code",
   "execution_count": 9,
   "metadata": {},
   "outputs": [
    {
     "name": "stdout",
     "output_type": "stream",
     "text": [
      "Pong-v0\n",
      "observation dimensionality (210, 160, 3)\n",
      "number of actions 6\n",
      "meaning of actions ['NOOP', 'FIRE', 'RIGHT', 'LEFT', 'RIGHTFIRE', 'LEFTFIRE']\n"
     ]
    }
   ],
   "source": [
    "# gym specifications\n",
    "import gym\n",
    "env_name = 'CartPole-v0'\n",
    "env_name = 'Breakout-v0'\n",
    "env_name = 'Pong-v0'\n",
    "env = gym.make(env_name)\n",
    "print(env_name)\n",
    "print('observation dimensionality {}'.format(env.observation_space.shape ))\n",
    "print('number of actions {}'.format(env.action_space.n))\n",
    "print('meaning of actions {}'.format(env.unwrapped.get_action_meanings()))"
   ]
  },
  {
   "cell_type": "code",
   "execution_count": 33,
   "metadata": {},
   "outputs": [
    {
     "name": "stdout",
     "output_type": "stream",
     "text": [
      "The autoreload extension is already loaded. To reload it, use:\n",
      "  %reload_ext autoreload\n",
      "Tensor(\"baseline/dense_1/BiasAdd:0\", shape=(?, 1), dtype=float32)\n",
      "ep 106 st 2000 vpg e.ret.tr 20.60 ag.ls 5.37 bs.ls 132.10 \n",
      "ep 195 st 4000 vpg e.ret.tr 25.15 ag.ls 5.24 bs.ls 189.15 \n",
      "ep 278 st 6000 vpg e.ret.tr 27.60 ag.ls 5.15 bs.ls 199.28 \n",
      "ep 351 st 8000 vpg e.ret.tr 29.20 ag.ls 4.69 bs.ls 187.01 \n",
      "ep 414 st 10000 vpg e.ret.tr 39.20 ag.ls 5.34 bs.ls 283.28 \n",
      "ep 467 st 12000 vpg e.ret.tr 32.50 ag.ls 3.66 bs.ls 171.93 \n",
      "ep 519 st 14000 vpg e.ret.tr 43.60 ag.ls 4.52 bs.ls 234.45 \n",
      "ep 555 st 16000 vpg e.ret.tr 55.70 ag.ls 5.16 bs.ls 394.47 \n",
      "ep 585 st 18000 vpg e.ret.tr 70.30 ag.ls 5.78 bs.ls 512.36 \n",
      "ep 608 st 20000 vpg e.ret.tr 84.30 ag.ls 6.14 bs.ls 754.67 \n"
     ]
    }
   ],
   "source": [
    "# Train a model\n",
    "%load_ext autoreload\n",
    "%autoreload 2\n",
    "import gym\n",
    "import os\n",
    "from model import Model\n",
    "from cfg import get_cfg\n",
    "from utils import get_experiment_name\n",
    "from utils import dotdict\n",
    "import tensorflow as tf\n",
    "tf.reset_default_graph()\n",
    "\n",
    "# where to save experimental results\n",
    "experiments_folder = os.path.join(os.getcwd(), 'results')\n",
    "experiment_name, experiment_folder = get_experiment_name(experiments_folder)\n",
    "\n",
    "# specify environment\n",
    "env_name = 'four_rooms_maze'\n",
    "env_name = 'BreakoutNoFrameskip-v4'\n",
    "env_name = 'Pong-v0'\n",
    "env_name = 'CartPole-v0'\n",
    "\n",
    "# specify agent\n",
    "agent_name = 'dqn'\n",
    "agent_name = 'ppo'\n",
    "agent_name = 'vpg'\n",
    "\n",
    "# load default config parameters\n",
    "cfg_env, cfg_agent = get_cfg(experiment_folder, env_name, agent_name)\n",
    "cfg = cfg_env\n",
    "cfg.update(cfg_agent)\n",
    "cfg = dotdict(cfg)\n",
    "\n",
    "# modify default config parameters\n",
    "cfg.n_steps = 20000\n",
    "cfg.batch_size = 1\n",
    "cfg.log_step = 2000\n",
    "cfg.verbose = False\n",
    "\n",
    "# train model\n",
    "model = Model(cfg)\n",
    "model.train_model()"
   ]
  },
  {
   "cell_type": "code",
   "execution_count": 13,
   "metadata": {},
   "outputs": [
    {
     "data": {
      "text/plain": [
       "0"
      ]
     },
     "execution_count": 13,
     "metadata": {},
     "output_type": "execute_result"
    }
   ],
   "source": [
    "2//3"
   ]
  },
  {
   "cell_type": "code",
   "execution_count": 1,
   "metadata": {},
   "outputs": [
    {
     "name": "stdout",
     "output_type": "stream",
     "text": [
      "WARNING:tensorflow:From /Users/raoul/code/drl/nn_tf.py:92: conv2d (from tensorflow.python.layers.convolutional) is deprecated and will be removed in a future version.\n",
      "Instructions for updating:\n",
      "Use keras.layers.conv2d instead.\n",
      "WARNING:tensorflow:From /Users/raoul/anaconda/envs/py36/lib/python3.6/site-packages/tensorflow/python/framework/op_def_library.py:263: colocate_with (from tensorflow.python.framework.ops) is deprecated and will be removed in a future version.\n",
      "Instructions for updating:\n",
      "Colocations handled automatically by placer.\n",
      "WARNING:tensorflow:From /Users/raoul/code/drl/nn_tf.py:121: dense (from tensorflow.python.layers.core) is deprecated and will be removed in a future version.\n",
      "Instructions for updating:\n",
      "Use keras.layers.dense instead.\n",
      "WARNING:tensorflow:From /Users/raoul/anaconda/envs/py36/lib/python3.6/site-packages/tensorflow/python/ops/losses/losses_impl.py:667: to_float (from tensorflow.python.ops.math_ops) is deprecated and will be removed in a future version.\n",
      "Instructions for updating:\n",
      "Use tf.cast instead.\n",
      "WARNING:tensorflow:From /Users/raoul/anaconda/envs/py36/lib/python3.6/site-packages/tensorflow/python/ops/math_ops.py:3066: to_int32 (from tensorflow.python.ops.math_ops) is deprecated and will be removed in a future version.\n",
      "Instructions for updating:\n",
      "Use tf.cast instead.\n",
      "WARNING:tensorflow:From /Users/raoul/anaconda/envs/py36/lib/python3.6/site-packages/tensorflow/python/training/saver.py:1266: checkpoint_exists (from tensorflow.python.training.checkpoint_management) is deprecated and will be removed in a future version.\n",
      "Instructions for updating:\n",
      "Use standard file APIs to check for files with this prefix.\n",
      "INFO:tensorflow:Restoring parameters from /Users/raoul/code/drl/results/1/ppo_ckpt-10\n",
      "INFO:tensorflow:Restoring parameters from /Users/raoul/code/drl/results/1/baseline_ckpt-10\n"
     ]
    }
   ],
   "source": [
    "# Load pretrained model\n",
    "import os\n",
    "from model import Model\n",
    "import tensorflow as tf\n",
    "tf.reset_default_graph()\n",
    "experiment_folder = os.path.join(os.getcwd(), 'results/1')\n",
    "model = Model.load(experiment_folder)"
   ]
  },
  {
   "cell_type": "code",
   "execution_count": 8,
   "metadata": {},
   "outputs": [
    {
     "name": "stdout",
     "output_type": "stream",
     "text": [
      "3 1.0 False\n",
      "0 1.0 False\n",
      "1 1.0 False\n",
      "3 1.0 False\n",
      "0 1.0 False\n",
      "2 1.0 False\n",
      "2 1.0 False\n",
      "2 1.0 False\n",
      "1 1.0 False\n",
      "2 1.0 False\n",
      "0 1.0 False\n",
      "2 1.0 False\n",
      "3 1.0 False\n",
      "2 1.0 False\n",
      "1 1.0 False\n",
      "2 1.0 False\n",
      "0 1.0 False\n",
      "1 1.0 False\n",
      "2 1.0 False\n",
      "0 1.0 False\n",
      "0 1.0 False\n",
      "0 1.0 False\n",
      "2 1.0 False\n",
      "2 1.0 False\n",
      "2 1.0 False\n",
      "1 1.0 False\n",
      "2 1.0 False\n",
      "2 1.0 False\n",
      "0 1.0 False\n",
      "0 1.0 False\n",
      "0 1.0 False\n",
      "1 1.0 False\n",
      "0 1.0 False\n",
      "1 1.0 False\n",
      "2 1.0 False\n",
      "1 1.0 False\n",
      "1 1.0 False\n",
      "2 1.0 False\n",
      "1 1.0 False\n",
      "1 1.0 False\n",
      "2 1.0 False\n",
      "2 1.0 False\n",
      "1 0.0 True\n",
      "42.0 43\n"
     ]
    }
   ],
   "source": [
    "# Simulate one episode in OpenAI gym\n",
    "import time \n",
    "obs, ext_return, done = model.env.reset(), 0., False\n",
    "n_steps, _return = 0, 0\n",
    "while not done:\n",
    "    obs = model.encode_obs(obs)\n",
    "    action = model.action(obs)\n",
    "    obs, r, done, _ = model.env.step(action)\n",
    "    print(action, r, done)\n",
    "    _return += r\n",
    "    n_steps += 1\n",
    "    model.env.render()\n",
    "    time.sleep(0.1)\n",
    "model.env.close()\n",
    "print(_return, n_steps)"
   ]
  },
  {
   "cell_type": "code",
   "execution_count": 20,
   "metadata": {
    "scrolled": false
   },
   "outputs": [
    {
     "ename": "AttributeError",
     "evalue": "'AtariGame' object has no attribute 'visited'",
     "output_type": "error",
     "traceback": [
      "\u001b[0;31m---------------------------------------------------------------------------\u001b[0m",
      "\u001b[0;31mAttributeError\u001b[0m                            Traceback (most recent call last)",
      "\u001b[0;32m<ipython-input-20-18dae68fc672>\u001b[0m in \u001b[0;36m<module>\u001b[0;34m\u001b[0m\n\u001b[1;32m      3\u001b[0m \u001b[0mget_ipython\u001b[0m\u001b[0;34m(\u001b[0m\u001b[0;34m)\u001b[0m\u001b[0;34m.\u001b[0m\u001b[0mrun_line_magic\u001b[0m\u001b[0;34m(\u001b[0m\u001b[0;34m'matplotlib'\u001b[0m\u001b[0;34m,\u001b[0m \u001b[0;34m'nbagg'\u001b[0m\u001b[0;34m)\u001b[0m\u001b[0;34m\u001b[0m\u001b[0;34m\u001b[0m\u001b[0m\n\u001b[1;32m      4\u001b[0m \u001b[0mext_return\u001b[0m\u001b[0;34m,\u001b[0m \u001b[0mn_steps\u001b[0m\u001b[0;34m,\u001b[0m \u001b[0mobs_list\u001b[0m \u001b[0;34m=\u001b[0m \u001b[0mmodel\u001b[0m\u001b[0;34m.\u001b[0m\u001b[0msimulate\u001b[0m\u001b[0;34m(\u001b[0m\u001b[0;34m)\u001b[0m\u001b[0;34m\u001b[0m\u001b[0;34m\u001b[0m\u001b[0m\n\u001b[0;32m----> 5\u001b[0;31m \u001b[0mprint\u001b[0m\u001b[0;34m(\u001b[0m\u001b[0mext_return\u001b[0m\u001b[0;34m,\u001b[0m \u001b[0mn_steps\u001b[0m\u001b[0;34m,\u001b[0m \u001b[0mlen\u001b[0m\u001b[0;34m(\u001b[0m\u001b[0mmodel\u001b[0m\u001b[0;34m.\u001b[0m\u001b[0menv\u001b[0m\u001b[0;34m.\u001b[0m\u001b[0mvisited\u001b[0m\u001b[0;34m)\u001b[0m\u001b[0;34m)\u001b[0m\u001b[0;34m\u001b[0m\u001b[0;34m\u001b[0m\u001b[0m\n\u001b[0m\u001b[1;32m      6\u001b[0m \u001b[0mmodel\u001b[0m\u001b[0;34m.\u001b[0m\u001b[0menv\u001b[0m\u001b[0;34m.\u001b[0m\u001b[0manimate\u001b[0m\u001b[0;34m(\u001b[0m\u001b[0mobs_list\u001b[0m\u001b[0;34m)\u001b[0m\u001b[0;34m\u001b[0m\u001b[0;34m\u001b[0m\u001b[0m\n",
      "\u001b[0;31mAttributeError\u001b[0m: 'AtariGame' object has no attribute 'visited'"
     ]
    }
   ],
   "source": [
    "# Simulate one episode in the Maze environment\n",
    "import matplotlib \n",
    "%matplotlib nbagg\n",
    "ext_return, n_steps, obs_list = model.simulate()\n",
    "print(ext_return, n_steps, len(model.env.visited))\n",
    "model.env.animate(obs_list)"
   ]
  },
  {
   "cell_type": "code",
   "execution_count": null,
   "metadata": {},
   "outputs": [],
   "source": []
  }
 ],
 "metadata": {
  "kernelspec": {
   "display_name": "Python [conda env:py36]",
   "language": "python",
   "name": "conda-env-py36-py"
  },
  "language_info": {
   "codemirror_mode": {
    "name": "ipython",
    "version": 3
   },
   "file_extension": ".py",
   "mimetype": "text/x-python",
   "name": "python",
   "nbconvert_exporter": "python",
   "pygments_lexer": "ipython3",
   "version": "3.6.8"
  }
 },
 "nbformat": 4,
 "nbformat_minor": 2
}
