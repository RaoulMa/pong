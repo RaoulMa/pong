{
 "cells": [
  {
   "cell_type": "code",
   "execution_count": 2,
   "metadata": {},
   "outputs": [
    {
     "name": "stdout",
     "output_type": "stream",
     "text": [
      "tf version 1.13.1\n",
      "Is GPU available False\n"
     ]
    }
   ],
   "source": [
    "# GPU availability\n",
    "import tensorflow as tf\n",
    "print('tf version {}'.format(tf.__version__))\n",
    "print('Is GPU available {}'.format(tf.test.is_gpu_available()))\n",
    "device_name = tf.test.gpu_device_name()\n",
    "if device_name == '/device:GPU:0':\n",
    "    print('Found GPU at: {}'.format(device_name))"
   ]
  },
  {
   "cell_type": "code",
   "execution_count": 3,
   "metadata": {},
   "outputs": [
    {
     "name": "stdout",
     "output_type": "stream",
     "text": [
      "Pong-v0\n",
      "observation dimensionality (210, 160, 3)\n",
      "number of actions 6\n",
      "meaning of actions ['NOOP', 'FIRE', 'RIGHT', 'LEFT', 'RIGHTFIRE', 'LEFTFIRE']\n"
     ]
    }
   ],
   "source": [
    "# gym specifications\n",
    "import gym\n",
    "import time \n",
    "env_name = 'CartPole-v0'\n",
    "env_name = 'Breakout-v0'\n",
    "env_name = 'Pong-v0'\n",
    "env = gym.make(env_name)\n",
    "print(env_name)\n",
    "print('observation dimensionality {}'.format(env.observation_space.shape ))\n",
    "print('number of actions {}'.format(env.action_space.n))\n",
    "print('meaning of actions {}'.format(env.unwrapped.get_action_meanings()))\n"
   ]
  },
  {
   "cell_type": "code",
   "execution_count": 7,
   "metadata": {},
   "outputs": [
    {
     "name": "stdout",
     "output_type": "stream",
     "text": [
      "The autoreload extension is already loaded. To reload it, use:\n",
      "  %reload_ext autoreload\n",
      "Tensor(\"baseline/dense/BiasAdd:0\", shape=(?, 1), dtype=float32)\n",
      "ep 3 st 100 ppo e.ret.tr -1.00 ep.ln 50 sp 0.0 ag.ls 0.36 bs.ls 0.65 \n",
      "ep 5 st 200 ppo e.ret.tr -1.00 ep.ln 42 sp 144.1 ag.ls 0.45 bs.ls 0.69 \n",
      "ep 8 st 300 ppo e.ret.tr -1.00 ep.ln 35 sp 124.6 ag.ls 0.54 bs.ls 0.72 \n",
      "ep 11 st 400 ppo e.ret.tr -1.00 ep.ln 35 sp 124.6 ag.ls 0.54 bs.ls 0.70 \n",
      "ep 14 st 500 ppo e.ret.tr -1.00 ep.ln 35 sp 125.5 ag.ls 0.53 bs.ls 0.70 \n",
      "ep 17 st 600 ppo e.ret.tr -1.00 ep.ln 35 sp 126.9 ag.ls 0.53 bs.ls 0.70 \n",
      "ep 18 st 700 ppo e.ret.tr -1.00 ep.ln 47 sp 147.1 ag.ls 0.53 bs.ls 0.64 \n",
      "ep 19 st 800 ppo e.ret.tr -1.00 ep.ln 60 sp 122.9 ag.ls 0.48 bs.ls 0.58 \n",
      "ep 21 st 900 ppo e.ret.tr -1.00 ep.ln 65 sp 72.4 ag.ls 0.38 bs.ls 0.55 \n",
      "ep 22 st 1000 ppo e.ret.tr -1.00 ep.ln 77 sp 81.0 ag.ls 0.38 bs.ls 0.49 \n",
      "ep 25 st 1100 ppo e.ret.tr -1.00 ep.ln 47 sp 62.6 ag.ls 0.43 bs.ls 0.62 \n",
      "ep 28 st 1200 ppo e.ret.tr -1.00 ep.ln 35 sp 83.5 ag.ls 0.52 bs.ls 0.66 \n",
      "ep 31 st 1300 ppo e.ret.tr -1.00 ep.ln 35 sp 125.3 ag.ls 0.52 bs.ls 0.66 \n",
      "ep 34 st 1400 ppo e.ret.tr -1.00 ep.ln 35 sp 120.7 ag.ls 0.52 bs.ls 0.66 \n",
      "ep 36 st 1500 ppo e.ret.tr -1.00 ep.ln 35 sp 150.7 ag.ls 0.52 bs.ls 0.66 \n",
      "ep 38 st 1600 ppo e.ret.tr -1.00 ep.ln 41 sp 89.2 ag.ls 0.52 bs.ls 0.63 \n",
      "ep 41 st 1700 ppo e.ret.tr -1.00 ep.ln 41 sp 87.5 ag.ls 0.49 bs.ls 0.64 \n",
      "ep 44 st 1800 ppo e.ret.tr -1.00 ep.ln 35 sp 89.2 ag.ls 0.52 bs.ls 0.67 \n",
      "ep 47 st 1900 ppo e.ret.tr -1.00 ep.ln 35 sp 105.5 ag.ls 0.52 bs.ls 0.66 \n",
      "ep 48 st 2000 ppo e.ret.tr -1.00 ep.ln 35 sp 192.7 ag.ls 0.52 bs.ls 0.66 \n"
     ]
    }
   ],
   "source": [
    "# Train a model\n",
    "%load_ext autoreload\n",
    "%autoreload 2\n",
    "import gym\n",
    "import os\n",
    "import matplotlib \n",
    "%matplotlib inline\n",
    "from model import Model\n",
    "from cfg import get_cfg\n",
    "from utils import get_experiment_name\n",
    "from utils import dotdict\n",
    "import tensorflow as tf\n",
    "tf.reset_default_graph()\n",
    "\n",
    "# where to save experimental results\n",
    "experiments_folder = os.path.join(os.getcwd(), 'results')\n",
    "experiment_name, experiment_folder = get_experiment_name(experiments_folder)\n",
    "\n",
    "# specify environment\n",
    "env_name = 'four_rooms_maze'\n",
    "env_name = 'BreakoutNoFrameskip-v4'\n",
    "env_name = 'CartPole-v0'\n",
    "env_name = 'PongNoFrameskip-v4'\n",
    "\n",
    "# specify agent\n",
    "agent_name = 'dqn'\n",
    "agent_name = 'vpg'\n",
    "agent_name = 'ppo'\n",
    "\n",
    "# load default config parameters\n",
    "cfg_env, cfg_agent = get_cfg(experiment_folder, env_name, agent_name)\n",
    "cfg = cfg_env\n",
    "cfg.update(cfg_agent)\n",
    "cfg = dotdict(cfg)\n",
    "\n",
    "# modify default config parameters\n",
    "cfg.n_steps = 2000\n",
    "cfg.batch_size = 1\n",
    "cfg.log_step = 100\n",
    "cfg.agent_buffer_start_size = 1000\n",
    "cfg.verbose = False\n",
    "\n",
    "# train model\n",
    "model = Model(cfg)\n",
    "model.train_model()"
   ]
  },
  {
   "cell_type": "code",
   "execution_count": 23,
   "metadata": {},
   "outputs": [
    {
     "data": {
      "text/plain": [
       "2257.92"
      ]
     },
     "execution_count": 23,
     "metadata": {},
     "output_type": "execute_result"
    }
   ],
   "source": [
    "10000 * 2 * 84*84*4*4 / 1000 /1000"
   ]
  },
  {
   "cell_type": "code",
   "execution_count": 1,
   "metadata": {},
   "outputs": [
    {
     "name": "stdout",
     "output_type": "stream",
     "text": [
      "WARNING:tensorflow:From /Users/raoul/code/drl/nn_tf.py:92: conv2d (from tensorflow.python.layers.convolutional) is deprecated and will be removed in a future version.\n",
      "Instructions for updating:\n",
      "Use keras.layers.conv2d instead.\n",
      "WARNING:tensorflow:From /Users/raoul/anaconda/envs/py36/lib/python3.6/site-packages/tensorflow/python/framework/op_def_library.py:263: colocate_with (from tensorflow.python.framework.ops) is deprecated and will be removed in a future version.\n",
      "Instructions for updating:\n",
      "Colocations handled automatically by placer.\n",
      "WARNING:tensorflow:From /Users/raoul/code/drl/nn_tf.py:121: dense (from tensorflow.python.layers.core) is deprecated and will be removed in a future version.\n",
      "Instructions for updating:\n",
      "Use keras.layers.dense instead.\n",
      "WARNING:tensorflow:From /Users/raoul/anaconda/envs/py36/lib/python3.6/site-packages/tensorflow/python/ops/losses/losses_impl.py:667: to_float (from tensorflow.python.ops.math_ops) is deprecated and will be removed in a future version.\n",
      "Instructions for updating:\n",
      "Use tf.cast instead.\n",
      "WARNING:tensorflow:From /Users/raoul/anaconda/envs/py36/lib/python3.6/site-packages/tensorflow/python/ops/math_ops.py:3066: to_int32 (from tensorflow.python.ops.math_ops) is deprecated and will be removed in a future version.\n",
      "Instructions for updating:\n",
      "Use tf.cast instead.\n",
      "WARNING:tensorflow:From /Users/raoul/anaconda/envs/py36/lib/python3.6/site-packages/tensorflow/python/training/saver.py:1266: checkpoint_exists (from tensorflow.python.training.checkpoint_management) is deprecated and will be removed in a future version.\n",
      "Instructions for updating:\n",
      "Use standard file APIs to check for files with this prefix.\n",
      "INFO:tensorflow:Restoring parameters from /Users/raoul/code/drl/results/1/ppo_ckpt-10\n",
      "INFO:tensorflow:Restoring parameters from /Users/raoul/code/drl/results/1/baseline_ckpt-10\n"
     ]
    }
   ],
   "source": [
    "# Load pretrained model\n",
    "import os\n",
    "from model import Model\n",
    "import tensorflow as tf\n",
    "tf.reset_default_graph()\n",
    "experiment_folder = os.path.join(os.getcwd(), 'results/1')\n",
    "model = Model.load(experiment_folder)"
   ]
  },
  {
   "cell_type": "code",
   "execution_count": null,
   "metadata": {},
   "outputs": [],
   "source": []
  },
  {
   "cell_type": "code",
   "execution_count": 8,
   "metadata": {},
   "outputs": [
    {
     "name": "stdout",
     "output_type": "stream",
     "text": [
      "3 1.0 False\n",
      "0 1.0 False\n",
      "1 1.0 False\n",
      "3 1.0 False\n",
      "0 1.0 False\n",
      "2 1.0 False\n",
      "2 1.0 False\n",
      "2 1.0 False\n",
      "1 1.0 False\n",
      "2 1.0 False\n",
      "0 1.0 False\n",
      "2 1.0 False\n",
      "3 1.0 False\n",
      "2 1.0 False\n",
      "1 1.0 False\n",
      "2 1.0 False\n",
      "0 1.0 False\n",
      "1 1.0 False\n",
      "2 1.0 False\n",
      "0 1.0 False\n",
      "0 1.0 False\n",
      "0 1.0 False\n",
      "2 1.0 False\n",
      "2 1.0 False\n",
      "2 1.0 False\n",
      "1 1.0 False\n",
      "2 1.0 False\n",
      "2 1.0 False\n",
      "0 1.0 False\n",
      "0 1.0 False\n",
      "0 1.0 False\n",
      "1 1.0 False\n",
      "0 1.0 False\n",
      "1 1.0 False\n",
      "2 1.0 False\n",
      "1 1.0 False\n",
      "1 1.0 False\n",
      "2 1.0 False\n",
      "1 1.0 False\n",
      "1 1.0 False\n",
      "2 1.0 False\n",
      "2 1.0 False\n",
      "1 0.0 True\n",
      "42.0 43\n"
     ]
    }
   ],
   "source": [
    "# Simulate one episode in OpenAI gym\n",
    "import time \n",
    "obs, ext_return, done = model.env.reset(), 0., False\n",
    "n_steps, _return = 0, 0\n",
    "while not done:\n",
    "    obs = model.encode_obs(obs)\n",
    "    action = model.action(obs)\n",
    "    obs, r, done, _ = model.env.step(action)\n",
    "    print(action, r, done)\n",
    "    _return += r\n",
    "    n_steps += 1\n",
    "    model.env.render()\n",
    "    time.sleep(0.1)\n",
    "model.env.close()\n",
    "print(_return, n_steps)"
   ]
  },
  {
   "cell_type": "code",
   "execution_count": 20,
   "metadata": {
    "scrolled": false
   },
   "outputs": [
    {
     "ename": "AttributeError",
     "evalue": "'AtariGame' object has no attribute 'visited'",
     "output_type": "error",
     "traceback": [
      "\u001b[0;31m---------------------------------------------------------------------------\u001b[0m",
      "\u001b[0;31mAttributeError\u001b[0m                            Traceback (most recent call last)",
      "\u001b[0;32m<ipython-input-20-18dae68fc672>\u001b[0m in \u001b[0;36m<module>\u001b[0;34m\u001b[0m\n\u001b[1;32m      3\u001b[0m \u001b[0mget_ipython\u001b[0m\u001b[0;34m(\u001b[0m\u001b[0;34m)\u001b[0m\u001b[0;34m.\u001b[0m\u001b[0mrun_line_magic\u001b[0m\u001b[0;34m(\u001b[0m\u001b[0;34m'matplotlib'\u001b[0m\u001b[0;34m,\u001b[0m \u001b[0;34m'nbagg'\u001b[0m\u001b[0;34m)\u001b[0m\u001b[0;34m\u001b[0m\u001b[0;34m\u001b[0m\u001b[0m\n\u001b[1;32m      4\u001b[0m \u001b[0mext_return\u001b[0m\u001b[0;34m,\u001b[0m \u001b[0mn_steps\u001b[0m\u001b[0;34m,\u001b[0m \u001b[0mobs_list\u001b[0m \u001b[0;34m=\u001b[0m \u001b[0mmodel\u001b[0m\u001b[0;34m.\u001b[0m\u001b[0msimulate\u001b[0m\u001b[0;34m(\u001b[0m\u001b[0;34m)\u001b[0m\u001b[0;34m\u001b[0m\u001b[0;34m\u001b[0m\u001b[0m\n\u001b[0;32m----> 5\u001b[0;31m \u001b[0mprint\u001b[0m\u001b[0;34m(\u001b[0m\u001b[0mext_return\u001b[0m\u001b[0;34m,\u001b[0m \u001b[0mn_steps\u001b[0m\u001b[0;34m,\u001b[0m \u001b[0mlen\u001b[0m\u001b[0;34m(\u001b[0m\u001b[0mmodel\u001b[0m\u001b[0;34m.\u001b[0m\u001b[0menv\u001b[0m\u001b[0;34m.\u001b[0m\u001b[0mvisited\u001b[0m\u001b[0;34m)\u001b[0m\u001b[0;34m)\u001b[0m\u001b[0;34m\u001b[0m\u001b[0;34m\u001b[0m\u001b[0m\n\u001b[0m\u001b[1;32m      6\u001b[0m \u001b[0mmodel\u001b[0m\u001b[0;34m.\u001b[0m\u001b[0menv\u001b[0m\u001b[0;34m.\u001b[0m\u001b[0manimate\u001b[0m\u001b[0;34m(\u001b[0m\u001b[0mobs_list\u001b[0m\u001b[0;34m)\u001b[0m\u001b[0;34m\u001b[0m\u001b[0;34m\u001b[0m\u001b[0m\n",
      "\u001b[0;31mAttributeError\u001b[0m: 'AtariGame' object has no attribute 'visited'"
     ]
    }
   ],
   "source": [
    "# Simulate one episode in the Maze environment\n",
    "import matplotlib \n",
    "%matplotlib nbagg\n",
    "ext_return, n_steps, obs_list = model.simulate()\n",
    "print(ext_return, n_steps, len(model.env.visited))\n",
    "model.env.animate(obs_list)"
   ]
  },
  {
   "cell_type": "code",
   "execution_count": null,
   "metadata": {},
   "outputs": [],
   "source": []
  }
 ],
 "metadata": {
  "kernelspec": {
   "display_name": "Python [conda env:py36]",
   "language": "python",
   "name": "conda-env-py36-py"
  }
 },
 "nbformat": 4,
 "nbformat_minor": 2
}
