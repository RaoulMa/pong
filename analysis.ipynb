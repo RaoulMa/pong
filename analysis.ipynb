{
 "cells": [
  {
   "cell_type": "code",
   "execution_count": 2,
   "metadata": {},
   "outputs": [
    {
     "name": "stdout",
     "output_type": "stream",
     "text": [
      "tf version 1.13.1\n",
      "Is GPU available False\n"
     ]
    }
   ],
   "source": [
    "# GPU availability\n",
    "import tensorflow as tf\n",
    "print('tf version {}'.format(tf.__version__))\n",
    "print('Is GPU available {}'.format(tf.test.is_gpu_available()))\n",
    "device_name = tf.test.gpu_device_name()\n",
    "if device_name == '/device:GPU:0':\n",
    "    print('Found GPU at: {}'.format(device_name))"
   ]
  },
  {
   "cell_type": "code",
   "execution_count": 9,
   "metadata": {},
   "outputs": [
    {
     "name": "stdout",
     "output_type": "stream",
     "text": [
      "Pong-v0\n",
      "observation dimensionality (210, 160, 3)\n",
      "number of actions 6\n",
      "meaning of actions ['NOOP', 'FIRE', 'RIGHT', 'LEFT', 'RIGHTFIRE', 'LEFTFIRE']\n"
     ]
    }
   ],
   "source": [
    "# gym specifications\n",
    "import gym\n",
    "env_name = 'CartPole-v0'\n",
    "env_name = 'Breakout-v0'\n",
    "env_name = 'Pong-v0'\n",
    "env = gym.make(env_name)\n",
    "print(env_name)\n",
    "print('observation dimensionality {}'.format(env.observation_space.shape ))\n",
    "print('number of actions {}'.format(env.action_space.n))\n",
    "print('meaning of actions {}'.format(env.unwrapped.get_action_meanings()))"
   ]
  },
  {
   "cell_type": "code",
   "execution_count": null,
   "metadata": {},
   "outputs": [
    {
     "name": "stdout",
     "output_type": "stream",
     "text": [
      "WARNING:tensorflow:From /Users/raoul/code/drl/nn_tf.py:64: dense (from tensorflow.python.layers.core) is deprecated and will be removed in a future version.\n",
      "Instructions for updating:\n",
      "Use keras.layers.dense instead.\n",
      "WARNING:tensorflow:From /Users/raoul/anaconda/envs/py36/lib/python3.6/site-packages/tensorflow/python/framework/op_def_library.py:263: colocate_with (from tensorflow.python.framework.ops) is deprecated and will be removed in a future version.\n",
      "Instructions for updating:\n",
      "Colocations handled automatically by placer.\n",
      "WARNING:tensorflow:From /Users/raoul/anaconda/envs/py36/lib/python3.6/site-packages/tensorflow/python/ops/losses/losses_impl.py:667: to_float (from tensorflow.python.ops.math_ops) is deprecated and will be removed in a future version.\n",
      "Instructions for updating:\n",
      "Use tf.cast instead.\n",
      "ep 55 st 1000 dqn e.ret.tr 18.20 ag.ls 0.76 eps 0.00 \n",
      "ep 91 st 2000 dqn e.ret.tr 24.65 ag.ls 1.06 eps 0.00 \n",
      "ep 112 st 3000 dqn e.ret.tr 48.25 ag.ls 3.06 eps 0.00 \n",
      "ep 137 st 4000 dqn e.ret.tr 39.10 ag.ls 4.65 eps 0.00 \n",
      "ep 147 st 5000 dqn e.ret.tr 75.65 ag.ls 6.34 eps 0.00 \n"
     ]
    }
   ],
   "source": [
    "# Train a model\n",
    "%load_ext autoreload\n",
    "%autoreload 2\n",
    "import gym\n",
    "import os\n",
    "from model import Model\n",
    "from cfg import get_cfg\n",
    "from utils import get_experiment_name\n",
    "from utils import dotdict\n",
    "import tensorflow as tf\n",
    "tf.reset_default_graph()\n",
    "\n",
    "# where to save experimental results\n",
    "experiments_folder = os.path.join(os.getcwd(), 'results')\n",
    "experiment_name, experiment_folder = get_experiment_name(experiments_folder)\n",
    "\n",
    "# specify environment\n",
    "env_name = 'four_rooms_maze'\n",
    "env_name = 'BreakoutNoFrameskip-v4'\n",
    "env_name = 'Pong-v0'\n",
    "env_name = 'CartPole-v0'\n",
    "\n",
    "# specify agent\n",
    "agent_name = 'vpg'\n",
    "agent_name = 'ppo'\n",
    "agent_name = 'dqn'\n",
    "\n",
    "# load default config parameters\n",
    "cfg_env, cfg_agent = get_cfg(experiment_folder, env_name, agent_name)\n",
    "cfg = cfg_env\n",
    "cfg.update(cfg_agent)\n",
    "cfg = dotdict(cfg)\n",
    "\n",
    "# modify default config parameters\n",
    "cfg.n_episodes = 1000\n",
    "cfg.batch_size = 1\n",
    "cfg.log_step = 1000\n",
    "cfg.verbose = False\n",
    "\n",
    "# train model\n",
    "model = Model(cfg)\n",
    "model.train_model()"
   ]
  },
  {
   "cell_type": "code",
   "execution_count": 11,
   "metadata": {},
   "outputs": [
    {
     "name": "stdout",
     "output_type": "stream",
     "text": [
      "INFO:tensorflow:Restoring parameters from /Users/raoul/code/drl/results/11/ppo_ckpt-250\n",
      "INFO:tensorflow:Restoring parameters from /Users/raoul/code/drl/results/11/baseline_ckpt-250\n"
     ]
    }
   ],
   "source": [
    "# Load pretrained model\n",
    "import os\n",
    "from model import Model\n",
    "import tensorflow as tf\n",
    "tf.reset_default_graph()\n",
    "experiment_folder = os.path.join(os.getcwd(), 'results/11')\n",
    "model = Model.load(experiment_folder)"
   ]
  },
  {
   "cell_type": "code",
   "execution_count": 15,
   "metadata": {},
   "outputs": [
    {
     "name": "stdout",
     "output_type": "stream",
     "text": [
      "84.0 85\n"
     ]
    }
   ],
   "source": [
    "# Simulate one episode in OpenAI gym\n",
    "import time \n",
    "obs, ext_return, done = model.env.reset(), 0., False\n",
    "n_steps, _return = 0, 0\n",
    "while not done:\n",
    "    obs = model.encode_obs(obs)\n",
    "    action = model.action(obs)\n",
    "    obs, r, done, _ = model.env.step(action)\n",
    "    _return += r\n",
    "    n_steps += 1\n",
    "    model.env.render()\n",
    "    time.sleep(0.1)\n",
    "model.env.close()\n",
    "print(_return, n_steps)"
   ]
  },
  {
   "cell_type": "code",
   "execution_count": 20,
   "metadata": {
    "scrolled": false
   },
   "outputs": [
    {
     "ename": "AttributeError",
     "evalue": "'AtariGame' object has no attribute 'visited'",
     "output_type": "error",
     "traceback": [
      "\u001b[0;31m---------------------------------------------------------------------------\u001b[0m",
      "\u001b[0;31mAttributeError\u001b[0m                            Traceback (most recent call last)",
      "\u001b[0;32m<ipython-input-20-18dae68fc672>\u001b[0m in \u001b[0;36m<module>\u001b[0;34m\u001b[0m\n\u001b[1;32m      3\u001b[0m \u001b[0mget_ipython\u001b[0m\u001b[0;34m(\u001b[0m\u001b[0;34m)\u001b[0m\u001b[0;34m.\u001b[0m\u001b[0mrun_line_magic\u001b[0m\u001b[0;34m(\u001b[0m\u001b[0;34m'matplotlib'\u001b[0m\u001b[0;34m,\u001b[0m \u001b[0;34m'nbagg'\u001b[0m\u001b[0;34m)\u001b[0m\u001b[0;34m\u001b[0m\u001b[0;34m\u001b[0m\u001b[0m\n\u001b[1;32m      4\u001b[0m \u001b[0mext_return\u001b[0m\u001b[0;34m,\u001b[0m \u001b[0mn_steps\u001b[0m\u001b[0;34m,\u001b[0m \u001b[0mobs_list\u001b[0m \u001b[0;34m=\u001b[0m \u001b[0mmodel\u001b[0m\u001b[0;34m.\u001b[0m\u001b[0msimulate\u001b[0m\u001b[0;34m(\u001b[0m\u001b[0;34m)\u001b[0m\u001b[0;34m\u001b[0m\u001b[0;34m\u001b[0m\u001b[0m\n\u001b[0;32m----> 5\u001b[0;31m \u001b[0mprint\u001b[0m\u001b[0;34m(\u001b[0m\u001b[0mext_return\u001b[0m\u001b[0;34m,\u001b[0m \u001b[0mn_steps\u001b[0m\u001b[0;34m,\u001b[0m \u001b[0mlen\u001b[0m\u001b[0;34m(\u001b[0m\u001b[0mmodel\u001b[0m\u001b[0;34m.\u001b[0m\u001b[0menv\u001b[0m\u001b[0;34m.\u001b[0m\u001b[0mvisited\u001b[0m\u001b[0;34m)\u001b[0m\u001b[0;34m)\u001b[0m\u001b[0;34m\u001b[0m\u001b[0;34m\u001b[0m\u001b[0m\n\u001b[0m\u001b[1;32m      6\u001b[0m \u001b[0mmodel\u001b[0m\u001b[0;34m.\u001b[0m\u001b[0menv\u001b[0m\u001b[0;34m.\u001b[0m\u001b[0manimate\u001b[0m\u001b[0;34m(\u001b[0m\u001b[0mobs_list\u001b[0m\u001b[0;34m)\u001b[0m\u001b[0;34m\u001b[0m\u001b[0;34m\u001b[0m\u001b[0m\n",
      "\u001b[0;31mAttributeError\u001b[0m: 'AtariGame' object has no attribute 'visited'"
     ]
    }
   ],
   "source": [
    "# Simulate one episode in the Maze environment\n",
    "import matplotlib \n",
    "%matplotlib nbagg\n",
    "ext_return, n_steps, obs_list = model.simulate()\n",
    "print(ext_return, n_steps, len(model.env.visited))\n",
    "model.env.animate(obs_list)"
   ]
  },
  {
   "cell_type": "code",
   "execution_count": null,
   "metadata": {},
   "outputs": [],
   "source": []
  }
 ],
 "metadata": {
  "kernelspec": {
   "display_name": "Python [conda env:py36]",
   "language": "python",
   "name": "conda-env-py36-py"
  },
  "language_info": {
   "codemirror_mode": {
    "name": "ipython",
    "version": 3
   },
   "file_extension": ".py",
   "mimetype": "text/x-python",
   "name": "python",
   "nbconvert_exporter": "python",
   "pygments_lexer": "ipython3",
   "version": "3.6.8"
  }
 },
 "nbformat": 4,
 "nbformat_minor": 2
}
